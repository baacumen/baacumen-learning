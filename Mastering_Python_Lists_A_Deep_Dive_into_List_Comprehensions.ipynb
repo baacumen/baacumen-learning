{
  "nbformat": 4,
  "nbformat_minor": 0,
  "metadata": {
    "colab": {
      "provenance": [],
      "authorship_tag": "ABX9TyOSQ6BpXicinEDB5o15qywh",
      "include_colab_link": true
    },
    "kernelspec": {
      "name": "python3",
      "display_name": "Python 3"
    },
    "language_info": {
      "name": "python"
    }
  },
  "cells": [
    {
      "cell_type": "markdown",
      "metadata": {
        "id": "view-in-github",
        "colab_type": "text"
      },
      "source": [
        "<a href=\"https://colab.research.google.com/github/baacumen/baacumen-learning/blob/main/Mastering_Python_Lists_A_Deep_Dive_into_List_Comprehensions.ipynb\" target=\"_parent\"><img src=\"https://colab.research.google.com/assets/colab-badge.svg\" alt=\"Open In Colab\"/></a>"
      ]
    },
    {
      "cell_type": "markdown",
      "source": [
        "#### **Author:** Vishal Verma\n",
        "#### **Contact:** https://www.linkedin.com/in/vishalverma2701"
      ],
      "metadata": {
        "id": "REfrpFQ_CanZ"
      }
    },
    {
      "cell_type": "markdown",
      "source": [
        "**Basic List Creation:**\n",
        "List comprehensions are excellent for creating lists in a concise manner. Let's start with a simple example - generating a list of squares from 1 to 10."
      ],
      "metadata": {
        "id": "DNVYhivGA11G"
      }
    },
    {
      "cell_type": "code",
      "source": [
        "squares = [x**2 for x in range(1, 11)]\n",
        "print(squares)"
      ],
      "metadata": {
        "colab": {
          "base_uri": "https://localhost:8080/"
        },
        "id": "BTRoj8YJA4nB",
        "outputId": "ff9bacc5-3788-42e7-faaf-34ccca36a44e"
      },
      "execution_count": 1,
      "outputs": [
        {
          "output_type": "stream",
          "name": "stdout",
          "text": [
            "[1, 4, 9, 16, 25, 36, 49, 64, 81, 100]\n"
          ]
        }
      ]
    },
    {
      "cell_type": "markdown",
      "source": [
        "**Filtering Elements:**\n",
        "Use list comprehensions to filter elements based on a condition. Let's filter out even numbers from a given list."
      ],
      "metadata": {
        "id": "Sh1h_DhuBV3R"
      }
    },
    {
      "cell_type": "code",
      "source": [
        "numbers = [1, 2, 3, 4, 5, 6, 7, 8, 9, 10]\n",
        "evens = [x for x in numbers if x % 2 == 0]\n",
        "print(evens)"
      ],
      "metadata": {
        "colab": {
          "base_uri": "https://localhost:8080/"
        },
        "id": "z9Tl8JDhBWKp",
        "outputId": "9bf00c80-3229-4f09-f05e-b199f130e5f0"
      },
      "execution_count": 2,
      "outputs": [
        {
          "output_type": "stream",
          "name": "stdout",
          "text": [
            "[2, 4, 6, 8, 10]\n"
          ]
        }
      ]
    },
    {
      "cell_type": "markdown",
      "source": [
        "**Nested List Comprehensions:**\n",
        "List comprehensions can be nested for more complex scenarios. Here's an example of creating a 2D matrix using nested comprehensions."
      ],
      "metadata": {
        "id": "Sf8w3keFBWSV"
      }
    },
    {
      "cell_type": "code",
      "source": [
        "matrix = [[i + j for j in range(3)] for i in range(3)]\n",
        "print(matrix)"
      ],
      "metadata": {
        "colab": {
          "base_uri": "https://localhost:8080/"
        },
        "id": "XEaanPaKBWaD",
        "outputId": "008e0d2e-7dfe-42ad-b3ef-95126a8db722"
      },
      "execution_count": 3,
      "outputs": [
        {
          "output_type": "stream",
          "name": "stdout",
          "text": [
            "[[0, 1, 2], [1, 2, 3], [2, 3, 4]]\n"
          ]
        }
      ]
    },
    {
      "cell_type": "markdown",
      "source": [
        "**String Manipulation:**\n",
        "Transform each character of a string using list comprehensions."
      ],
      "metadata": {
        "id": "q4vORpyJBWhV"
      }
    },
    {
      "cell_type": "code",
      "source": [
        "word = \"python\"\n",
        "caps_word = [char.upper() for char in word]\n",
        "print(''.join(caps_word))"
      ],
      "metadata": {
        "colab": {
          "base_uri": "https://localhost:8080/"
        },
        "id": "7ZRG_FMVBWph",
        "outputId": "744aa9f2-d764-4059-e754-d3e87da73ba4"
      },
      "execution_count": 4,
      "outputs": [
        {
          "output_type": "stream",
          "name": "stdout",
          "text": [
            "PYTHON\n"
          ]
        }
      ]
    },
    {
      "cell_type": "markdown",
      "source": [
        "**Dictionary Comprehensions:**\n",
        "List comprehensions can be adapted to create dictionaries. Here's an example of creating a dictionary of squares."
      ],
      "metadata": {
        "id": "rYqq7EEyBWxd"
      }
    },
    {
      "cell_type": "code",
      "source": [
        "numbers = [1, 2, 3, 4, 5]\n",
        "square_dict = {x: x**2 for x in numbers}\n",
        "print(square_dict)"
      ],
      "metadata": {
        "colab": {
          "base_uri": "https://localhost:8080/"
        },
        "id": "7NUozOtEBW4g",
        "outputId": "fa963a8b-2ef2-4ee6-c2bf-6c820c29fa22"
      },
      "execution_count": 5,
      "outputs": [
        {
          "output_type": "stream",
          "name": "stdout",
          "text": [
            "{1: 1, 2: 4, 3: 9, 4: 16, 5: 25}\n"
          ]
        }
      ]
    },
    {
      "cell_type": "markdown",
      "source": [
        "**Conditional Transformation:**\n",
        "Transform elements based on a condition. Let's square even numbers and cube odd numbers from a given list."
      ],
      "metadata": {
        "id": "CVce0t5JB0Rz"
      }
    },
    {
      "cell_type": "code",
      "source": [
        "numbers = [1, 2, 3, 4, 5]\n",
        "transformed = [x**2 if x % 2 == 0 else x**3 for x in numbers]\n",
        "print(transformed)"
      ],
      "metadata": {
        "colab": {
          "base_uri": "https://localhost:8080/"
        },
        "id": "hRizNXZ5B0ZC",
        "outputId": "75730157-d600-420c-e217-1c1842e89a6f"
      },
      "execution_count": 6,
      "outputs": [
        {
          "output_type": "stream",
          "name": "stdout",
          "text": [
            "[1, 4, 27, 16, 125]\n"
          ]
        }
      ]
    },
    {
      "cell_type": "markdown",
      "source": [
        "**Flattening Nested Lists:**\n",
        "Flatten a nested list using list comprehensions."
      ],
      "metadata": {
        "id": "rY5wzroxB0fm"
      }
    },
    {
      "cell_type": "code",
      "source": [
        "nested_list = [[1, 2, 3], [4, 5, 6], [7, 8, 9]]\n",
        "flattened = [item for sublist in nested_list for item in sublist]\n",
        "print(flattened)"
      ],
      "metadata": {
        "colab": {
          "base_uri": "https://localhost:8080/"
        },
        "id": "5PtB0lp5B0mc",
        "outputId": "a8beab89-1955-4b09-d517-dfc5aa58b251"
      },
      "execution_count": 7,
      "outputs": [
        {
          "output_type": "stream",
          "name": "stdout",
          "text": [
            "[1, 2, 3, 4, 5, 6, 7, 8, 9]\n"
          ]
        }
      ]
    },
    {
      "cell_type": "markdown",
      "source": [
        "**Using Built-in Functions:**\n",
        "Leverage built-in functions within list comprehensions. Let's create a list of the lengths of words in a sentence."
      ],
      "metadata": {
        "id": "Z6MI0TowB0yP"
      }
    },
    {
      "cell_type": "code",
      "source": [
        "sentence = \"List comprehensions are powerful tools\"\n",
        "word_lengths = [len(word) for word in sentence.split()]\n",
        "print(word_lengths)"
      ],
      "metadata": {
        "colab": {
          "base_uri": "https://localhost:8080/"
        },
        "id": "FUs3EjqJB04N",
        "outputId": "2303356b-4299-4445-828b-c341df1dc82e"
      },
      "execution_count": 8,
      "outputs": [
        {
          "output_type": "stream",
          "name": "stdout",
          "text": [
            "[4, 14, 3, 8, 5]\n"
          ]
        }
      ]
    },
    {
      "cell_type": "markdown",
      "source": [
        "**Set Comprehensions:**\n",
        "Similar to list comprehensions, Python supports set comprehensions. Create a set of squares from 1 to 5."
      ],
      "metadata": {
        "id": "1onSMZ9LB0_2"
      }
    },
    {
      "cell_type": "code",
      "source": [
        "squares_set = {x**2 for x in range(1, 6)}\n",
        "print(squares_set)"
      ],
      "metadata": {
        "colab": {
          "base_uri": "https://localhost:8080/"
        },
        "id": "DdOwQap4B1HK",
        "outputId": "2dd23a3b-ee8e-46d7-c800-55a6dd92398a"
      },
      "execution_count": 9,
      "outputs": [
        {
          "output_type": "stream",
          "name": "stdout",
          "text": [
            "{1, 4, 9, 16, 25}\n"
          ]
        }
      ]
    },
    {
      "cell_type": "markdown",
      "source": [
        "**Working with External Libraries:**\n",
        "List comprehensions are not limited to native Python structures. Here's an example using the NumPy library to create an array of squares."
      ],
      "metadata": {
        "id": "0ZdWu3eiCHVL"
      }
    },
    {
      "cell_type": "code",
      "source": [
        "import numpy as np\n",
        "\n",
        "array = np.array([x**2 for x in range(1, 6)])\n",
        "print(array)"
      ],
      "metadata": {
        "colab": {
          "base_uri": "https://localhost:8080/"
        },
        "id": "_LKHpDl0CHcV",
        "outputId": "e5a85b49-dad5-4773-fba9-824e01f63a01"
      },
      "execution_count": 10,
      "outputs": [
        {
          "output_type": "stream",
          "name": "stdout",
          "text": [
            "[ 1  4  9 16 25]\n"
          ]
        }
      ]
    }
  ]
}
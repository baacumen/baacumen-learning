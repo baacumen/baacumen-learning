{
  "nbformat": 4,
  "nbformat_minor": 0,
  "metadata": {
    "colab": {
      "provenance": [],
      "authorship_tag": "ABX9TyNfS/9E42UbE4toU0L8JdBd",
      "include_colab_link": true
    },
    "kernelspec": {
      "name": "python3",
      "display_name": "Python 3"
    },
    "language_info": {
      "name": "python"
    }
  },
  "cells": [
    {
      "cell_type": "markdown",
      "metadata": {
        "id": "view-in-github",
        "colab_type": "text"
      },
      "source": [
        "<a href=\"https://colab.research.google.com/github/baacumen/baacumen-learning/blob/main/Building_Chatbots_using_OpenAI_GPT_4_Preview_and_Python.ipynb\" target=\"_parent\"><img src=\"https://colab.research.google.com/assets/colab-badge.svg\" alt=\"Open In Colab\"/></a>"
      ]
    },
    {
      "cell_type": "code",
      "execution_count": null,
      "metadata": {
        "id": "po3eppy2OfXb"
      },
      "outputs": [],
      "source": [
        "import tkinter as tk\n",
        "from tkinter import ttk\n",
        "from h2ogpte import H2OGPTE  # Make sure to have the necessary library installed\n",
        "\n",
        "class ChatGPTApp:\n",
        "    def __init__(self, master):\n",
        "        self.master = master\n",
        "        self.master.title(\"Baacumen Learning - ChatGPT Like AI-Assistant\")\n",
        "\n",
        "        # Set up the H2OGPTE client\n",
        "        self.API_KEY = \"Your_API_Key\"\n",
        "        self.REMOTE_ADDRESS = \"https://h2ogpte.genai.h2o.ai\"\n",
        "        self.client = H2OGPTE(address=self.REMOTE_ADDRESS, api_key=self.API_KEY)\n",
        "        self.llm = \"gpt-4-1106-preview\"\n",
        "\n",
        "        # Font style\n",
        "        font_style = ('Arial', 12)\n",
        "\n",
        "        # Chat history displayed in the app\n",
        "        self.chat_history = []  # Use a list to store messages in order\n",
        "\n",
        "        # Create a themed frame for the chat history\n",
        "        self.chat_frame = ttk.Frame(master)\n",
        "        self.chat_frame.pack(padx=10, pady=10, fill=tk.BOTH, expand=True)\n",
        "\n",
        "        # Display chat history with a gap between window and responses\n",
        "        self.chat_history_text = tk.Text(\n",
        "            self.chat_frame, height=15, width=50, state=tk.DISABLED, wrap=tk.WORD,\n",
        "            font=font_style, background=\"#e0f7fa\", foreground=\"#000000\")\n",
        "        self.chat_history_text.pack(side=tk.LEFT, fill=tk.BOTH, expand=True, pady=(0, 10))  # Add padding at the bottom\n",
        "\n",
        "        # Scrollbar for the chat history\n",
        "        scrollbar = ttk.Scrollbar(self.chat_frame, command=self.chat_history_text.yview)\n",
        "        scrollbar.pack(side=tk.RIGHT, fill=tk.Y)\n",
        "        self.chat_history_text.config(yscrollcommand=scrollbar.set)\n",
        "\n",
        "        # Text input for user prompts\n",
        "        self.user_input = ttk.Entry(master, width=50, font=font_style, foreground=\"#000000\")\n",
        "        self.user_input.pack(pady=10, padx=10, fill=tk.X)\n",
        "\n",
        "        # Send button to send user prompts\n",
        "        self.send_button = ttk.Button(master, text=\"Send\", command=self.send_message, style=\"Send.TButton\")\n",
        "        self.send_button.pack(pady=10)\n",
        "\n",
        "        # Bind Enter key to send_message function\n",
        "        self.user_input.bind(\"<Return>\", lambda event: self.send_message())\n",
        "\n",
        "        # Configure font for the button\n",
        "        self.master.option_add('*TButton*Font', font_style)\n",
        "\n",
        "    def send_message(self):\n",
        "        user_prompt = self.user_input.get().strip()\n",
        "        if user_prompt:\n",
        "            bot_response = self.get_bot_response(user_prompt)\n",
        "            self.chat_history.append((\"user\", user_prompt))\n",
        "            self.chat_history.append((\"bot\", bot_response))\n",
        "            self.display_chat_history()\n",
        "\n",
        "    def get_bot_response(self, prompt):\n",
        "        return self.client.answer_question(question=prompt, llm=self.llm).content\n",
        "\n",
        "    def display_chat_history(self):\n",
        "        self.chat_history_text.config(state=tk.NORMAL)\n",
        "        new_messages = self.chat_history[-2:]  # Display only the last two messages\n",
        "        for msg_type, message in new_messages:\n",
        "            if msg_type == \"user\":\n",
        "                self.chat_history_text.insert(tk.END, f\"You: {message}\\n\", \"user\")\n",
        "            else:\n",
        "                self.chat_history_text.insert(tk.END, f\"Bot: {message}\\n\\n\", \"bot\")\n",
        "        self.chat_history_text.config(state=tk.DISABLED)\n",
        "        self.user_input.delete(0, tk.END)\n",
        "\n",
        "if __name__ == \"__main__\":\n",
        "    root = tk.Tk()\n",
        "    app = ChatGPTApp(root)\n",
        "\n",
        "    # Configure text widget tags for user and bot messages\n",
        "    app.chat_history_text.tag_configure(\"user\", foreground=\"#000000\", justify=\"right\")\n",
        "    app.chat_history_text.tag_configure(\"bot\", foreground=\"#0000FF\", justify=\"left\")\n",
        "\n",
        "    root.mainloop()"
      ]
    }
  ]
}
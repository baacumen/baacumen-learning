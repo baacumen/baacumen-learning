{
  "nbformat": 4,
  "nbformat_minor": 0,
  "metadata": {
    "colab": {
      "provenance": [],
      "authorship_tag": "ABX9TyOieuhLYccOx/N9odDgXK1R",
      "include_colab_link": true
    },
    "kernelspec": {
      "name": "python3",
      "display_name": "Python 3"
    },
    "language_info": {
      "name": "python"
    }
  },
  "cells": [
    {
      "cell_type": "markdown",
      "metadata": {
        "id": "view-in-github",
        "colab_type": "text"
      },
      "source": [
        "<a href=\"https://colab.research.google.com/github/baacumen/baacumen-learning/blob/main/Introduction_to_Generative_AI_Using_Python_for_Beginners.ipynb\" target=\"_parent\"><img src=\"https://colab.research.google.com/assets/colab-badge.svg\" alt=\"Open In Colab\"/></a>"
      ]
    },
    {
      "cell_type": "code",
      "execution_count": 30,
      "metadata": {
        "id": "dMvJWSz6pUaw"
      },
      "outputs": [],
      "source": [
        "# pip install tensorflow --quiet"
      ]
    },
    {
      "cell_type": "code",
      "source": [
        "import sys\n",
        "from transformers import GPT2LMHeadModel, GPT2Tokenizer\n",
        "\n",
        "# Redirect stderr to suppress warning messages\n",
        "sys.stderr = open('/dev/null', 'w')\n",
        "\n",
        "def generate_text(prompt, model, tokenizer, max_length=100):\n",
        "    # Tokenize the prompt\n",
        "    input_ids = tokenizer.encode(prompt, return_tensors=\"pt\", max_length=max_length, truncation=True)\n",
        "\n",
        "    # Generate text based on the prompt\n",
        "    output = model.generate(input_ids, max_length=max_length, num_return_sequences=1, no_repeat_ngram_size=2)\n",
        "\n",
        "    # Decode the generated text\n",
        "    generated_text = tokenizer.decode(output[0], skip_special_tokens=True)\n",
        "\n",
        "    return generated_text\n",
        "\n",
        "# Load pre-trained GPT-2 model and tokenizer\n",
        "model = GPT2LMHeadModel.from_pretrained(\"gpt2\")\n",
        "tokenizer = GPT2Tokenizer.from_pretrained(\"gpt2\")"
      ],
      "metadata": {
        "id": "CSenSuLwpdWu"
      },
      "execution_count": 40,
      "outputs": []
    },
    {
      "cell_type": "code",
      "source": [
        "def format_and_display_text(generated_text, words_per_line=5):\n",
        "    words = generated_text.split()\n",
        "    formatted_text = []\n",
        "\n",
        "    for i in range(0, len(words), words_per_line):\n",
        "        line = ' '.join(words[i:i+words_per_line])\n",
        "        formatted_text.append(line)\n",
        "\n",
        "    # Display the formatted text in a box\n",
        "    print(\"+\" + \"-\"*(max(map(len, formatted_text)) + 2) + \"+\")\n",
        "    for line in formatted_text:\n",
        "        print(f\"| {line.ljust(max(map(len, formatted_text)))} |\")\n",
        "    print(\"+\" + \"-\"*(max(map(len, formatted_text)) + 2) + \"+\")\n",
        "\n",
        "def get_response(user_prompt):\n",
        "  # Generate text based on the user prompt\n",
        "  generated_text = generate_text(user_prompt, model, tokenizer)\n",
        "\n",
        "  return generated_text"
      ],
      "metadata": {
        "id": "EQcG4m8iuyp2"
      },
      "execution_count": 46,
      "outputs": []
    },
    {
      "cell_type": "code",
      "source": [
        "# Creative Prompt Example\n",
        "\n",
        "prompt = \"In a world where technology has advanced beyond imagination, write a short story about the first human to discover a new dimension.\"\n",
        "format_and_display_text(generated_text=get_response(user_prompt=prompt),\n",
        "                        words_per_line=10)"
      ],
      "metadata": {
        "colab": {
          "base_uri": "https://localhost:8080/"
        },
        "id": "d4Xjza1XvGnV",
        "outputId": "73b31f37-186e-48b4-e554-d652f3b0a15b"
      },
      "execution_count": 52,
      "outputs": [
        {
          "output_type": "stream",
          "name": "stdout",
          "text": [
            "+--------------------------------------------------------------------+\n",
            "| In a world where technology has advanced beyond imagination, write |\n",
            "| a short story about the first human to discover a                  |\n",
            "| new dimension. The story is about a young man who                  |\n",
            "| discovers a strange world, and how he can help it                  |\n",
            "| grow. The story begins with a story of a man                       |\n",
            "| named John, who is a student at the University of                  |\n",
            "| California, Berkeley. He is an aspiring writer, but he is          |\n",
            "| also a writer who has a passion for science. John                  |\n",
            "| is fascinated by the world around him, so                          |\n",
            "+--------------------------------------------------------------------+\n"
          ]
        }
      ]
    },
    {
      "cell_type": "code",
      "source": [
        "# Technical Prompt Example\n",
        "\n",
        "prompt = \"Explain the concept of quantum entanglement and its implications for secure communication in layman's terms.\"\n",
        "format_and_display_text(generated_text=get_response(user_prompt=prompt),\n",
        "                        words_per_line=10)"
      ],
      "metadata": {
        "colab": {
          "base_uri": "https://localhost:8080/"
        },
        "id": "c0r-Kion0umP",
        "outputId": "1fb562ed-98b2-402c-870a-816998177240"
      },
      "execution_count": 53,
      "outputs": [
        {
          "output_type": "stream",
          "name": "stdout",
          "text": [
            "+---------------------------------------------------------------------------------------+\n",
            "| Explain the concept of quantum entanglement and its implications for                  |\n",
            "| secure communication in layman's terms. The paper is available online                 |\n",
            "| at: http://www.math.utah.edu/~david-d-mccarthy/papers/pdf/quantum-entanglements.pdf . |\n",
            "+---------------------------------------------------------------------------------------+\n"
          ]
        }
      ]
    },
    {
      "cell_type": "code",
      "source": [
        "# Dialog Prompt Example\n",
        "\n",
        "prompt = \"Create a dialogue between two characters, one who has just discovered time travel and the other who is skeptical about its possibilities.\"\n",
        "format_and_display_text(generated_text=get_response(user_prompt=prompt),\n",
        "                        words_per_line=10)"
      ],
      "metadata": {
        "colab": {
          "base_uri": "https://localhost:8080/"
        },
        "id": "vG4uvlse05vl",
        "outputId": "1276f2ab-f89e-44ab-ceb8-8de4437a2643"
      },
      "execution_count": 54,
      "outputs": [
        {
          "output_type": "stream",
          "name": "stdout",
          "text": [
            "+-------------------------------------------------------------+\n",
            "| Create a dialogue between two characters, one who has just  |\n",
            "| discovered time travel and the other who is skeptical about |\n",
            "| its possibilities. The game's story is set in the future,   |\n",
            "| and it's a time-traveling story. The game is about time     |\n",
            "| traveling, but it also has a lot of other things            |\n",
            "| going on. For example, the game has an alternate timeline   |\n",
            "| where the world is in a different time than the             |\n",
            "| one before it. This alternate time is called the \"Time      |\n",
            "| Vortex,\" and is                                             |\n",
            "+-------------------------------------------------------------+\n"
          ]
        }
      ]
    },
    {
      "cell_type": "code",
      "source": [
        "# Opinion Essay Prompt Example\n",
        "\n",
        "prompt = \"Compose an opinion essay discussing the ethical implications of using artificial intelligence in decision-making processes.\"\n",
        "format_and_display_text(generated_text=get_response(user_prompt=prompt),\n",
        "                        words_per_line=10)"
      ],
      "metadata": {
        "colab": {
          "base_uri": "https://localhost:8080/"
        },
        "id": "oBCiCYK41LUL",
        "outputId": "55cc2c3a-db0e-42e6-df02-82c3e1ce78b1"
      },
      "execution_count": 55,
      "outputs": [
        {
          "output_type": "stream",
          "name": "stdout",
          "text": [
            "+-------------------------------------------------------------------------------+\n",
            "| Compose an opinion essay discussing the ethical implications of using         |\n",
            "| artificial intelligence in decision-making processes. The following is a list |\n",
            "| of the most common ethical issues that arise when using                       |\n",
            "| AI in the workplace. The list is not exhaustive, but                          |\n",
            "| it is an overview of some of these issues.                                    |\n",
            "+-------------------------------------------------------------------------------+\n"
          ]
        }
      ]
    },
    {
      "cell_type": "code",
      "source": [
        "# Historical Fiction Prompt Example\n",
        "\n",
        "prompt = \"Transport the reader to ancient Rome and describe the life of a fictional character during the gladiatorial era.\"\n",
        "format_and_display_text(generated_text=get_response(user_prompt=prompt),\n",
        "                        words_per_line=10)"
      ],
      "metadata": {
        "colab": {
          "base_uri": "https://localhost:8080/"
        },
        "id": "AcTzthPv1LZ9",
        "outputId": "836cff07-f322-435a-f386-e59cdd3e013c"
      },
      "execution_count": 56,
      "outputs": [
        {
          "output_type": "stream",
          "name": "stdout",
          "text": [
            "+----------------------------------------------------------------+\n",
            "| Transport the reader to ancient Rome and describe the life     |\n",
            "| of a fictional character during the gladiatorial era. The book |\n",
            "| is available in paperback and Kindle.                          |\n",
            "+----------------------------------------------------------------+\n"
          ]
        }
      ]
    },
    {
      "cell_type": "code",
      "source": [
        "# Scientific Exploration Prompt Example\n",
        "\n",
        "prompt = \"Explore the potential applications of CRISPR technology in the field of medicine and its ethical considerations.\"\n",
        "format_and_display_text(generated_text=get_response(user_prompt=prompt),\n",
        "                        words_per_line=10)"
      ],
      "metadata": {
        "colab": {
          "base_uri": "https://localhost:8080/"
        },
        "id": "aGEY0N6u1LdM",
        "outputId": "dd17fe01-95f9-4fe2-dee5-40a5c7bab397"
      },
      "execution_count": 58,
      "outputs": [
        {
          "output_type": "stream",
          "name": "stdout",
          "text": [
            "+----------------------------------------------------------------------+\n",
            "| Explore the potential applications of CRISPR technology in the field |\n",
            "| of medicine and its ethical considerations. The authors thank Dr.    |\n",
            "| J. M. K. H. G. and Drs. A. S. R.                                     |\n",
            "| B. for their assistance in this research.                            |\n",
            "+----------------------------------------------------------------------+\n"
          ]
        }
      ]
    },
    {
      "cell_type": "code",
      "source": [
        "# Problem Solving Prompt Example\n",
        "\n",
        "prompt = \"Propose innovative solutions to address the challenges associated with climate change and its impact on coastal communities.\"\n",
        "format_and_display_text(generated_text=get_response(user_prompt=prompt),\n",
        "                        words_per_line=10)"
      ],
      "metadata": {
        "colab": {
          "base_uri": "https://localhost:8080/"
        },
        "id": "7bmEwT601Lf0",
        "outputId": "22f6d434-1ad7-434e-fb9a-0420074a1154"
      },
      "execution_count": 57,
      "outputs": [
        {
          "output_type": "stream",
          "name": "stdout",
          "text": [
            "+--------------------------------------------------------------------------------+\n",
            "| Propose innovative solutions to address the challenges associated with climate |\n",
            "| change and its impact on coastal communities. The report, \"Climate             |\n",
            "| Change and the Future of the United States: A Global                           |\n",
            "| Perspective,\" is the first to examine the impact of climate                    |\n",
            "| on the U.S. economy and to provide a comprehensive assessment                  |\n",
            "| of how the federal government can address climate-related challenges. The      |\n",
            "| report is based on a series of studies that have                               |\n",
            "| been published in the peer-reviewed scientific literature. It is a             |\n",
            "| critical contribution to                                                       |\n",
            "+--------------------------------------------------------------------------------+\n"
          ]
        }
      ]
    },
    {
      "cell_type": "code",
      "source": [
        "# Futuristic Scenario Prompt Example\n",
        "\n",
        "prompt = \"Describe a future society where humans coexist with advanced AI, highlighting the benefits and potential challenges.\"\n",
        "format_and_display_text(generated_text=get_response(user_prompt=prompt),\n",
        "                        words_per_line=10)"
      ],
      "metadata": {
        "colab": {
          "base_uri": "https://localhost:8080/"
        },
        "id": "vxRZ43jv1Lie",
        "outputId": "bee15f8f-48b1-4fe9-d6d6-4798f9fc082a"
      },
      "execution_count": 59,
      "outputs": [
        {
          "output_type": "stream",
          "name": "stdout",
          "text": [
            "+--------------------------------------------------------------------+\n",
            "| Describe a future society where humans coexist with advanced AI,   |\n",
            "| highlighting the benefits and potential challenges. \"We are in a   |\n",
            "| time where we are seeing a lot of advances in                      |\n",
            "| AI and we need to be able to make sure                             |\n",
            "| that we have the tools to do that,\" said Dr.                       |\n",
            "| J.J. K. P. Srivastava, director of the Centre for Artificial       |\n",
            "| Intelligence at the University of California, Berkeley. \"We need a |\n",
            "| way to communicate with the human brain and that                   |\n",
            "+--------------------------------------------------------------------+\n"
          ]
        }
      ]
    },
    {
      "cell_type": "code",
      "source": [
        "# Character Monologue Prompt Example\n",
        "\n",
        "prompt = \"Write a monologue from the perspective of a character who has just discovered a hidden ability, explaining their thoughts and emotions.\"\n",
        "format_and_display_text(generated_text=get_response(user_prompt=prompt),\n",
        "                        words_per_line=10)"
      ],
      "metadata": {
        "colab": {
          "base_uri": "https://localhost:8080/"
        },
        "id": "DI0mwEQQ16He",
        "outputId": "63eb2f31-fc57-48bf-cb0f-b6809eee6558"
      },
      "execution_count": 60,
      "outputs": [
        {
          "output_type": "stream",
          "name": "stdout",
          "text": [
            "+---------------------------------------------------------------------+\n",
            "| Write a monologue from the perspective of a character who           |\n",
            "| has just discovered a hidden ability, explaining their thoughts and |\n",
            "| emotions. The first step is to create a story that                  |\n",
            "| is both familiar and interesting. The second step involves creating |\n",
            "| a narrative that will be interesting to the reader. This            |\n",
            "| is the first stage of the story. It is important                    |\n",
            "| to note that the characters are not just talking about              |\n",
            "| the same thing. They are talking to each other. In                  |\n",
            "| the case of this story, the protagonist is a                        |\n",
            "+---------------------------------------------------------------------+\n"
          ]
        }
      ]
    },
    {
      "cell_type": "code",
      "source": [
        "# Comparative Analysis Prompt Example\n",
        "\n",
        "prompt = \"Compare and contrast the societal structures depicted in George Orwell's '1984' and Aldous Huxley's 'Brave New World'.\"\n",
        "format_and_display_text(generated_text=get_response(user_prompt=prompt),\n",
        "                        words_per_line=10)"
      ],
      "metadata": {
        "colab": {
          "base_uri": "https://localhost:8080/"
        },
        "id": "KeHtv7vv1-IV",
        "outputId": "08400634-82d6-4946-a621-468a9ed7aeb2"
      },
      "execution_count": 61,
      "outputs": [
        {
          "output_type": "stream",
          "name": "stdout",
          "text": [
            "+--------------------------------------------------------------------------+\n",
            "| Compare and contrast the societal structures depicted in George Orwell's |\n",
            "| '1984' and Aldous Huxley's 'Brave New World'. The social structures      |\n",
            "| of the past are not the same as the present.                             |\n",
            "| The social structure of today is not a social construct.                 |\n",
            "| It is a political construct, a system of social relations.               |\n",
            "| ... (The Social Structure of Today) , - The Social                       |\n",
            "| Structures of Tomorrow                                                   |\n",
            "+--------------------------------------------------------------------------+\n"
          ]
        }
      ]
    }
  ]
}
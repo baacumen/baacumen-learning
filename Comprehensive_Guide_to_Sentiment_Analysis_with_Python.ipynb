{
  "nbformat": 4,
  "nbformat_minor": 0,
  "metadata": {
    "colab": {
      "provenance": [],
      "authorship_tag": "ABX9TyOoKzfvAo92dBQjOUbam2aQ",
      "include_colab_link": true
    },
    "kernelspec": {
      "name": "python3",
      "display_name": "Python 3"
    },
    "language_info": {
      "name": "python"
    }
  },
  "cells": [
    {
      "cell_type": "markdown",
      "metadata": {
        "id": "view-in-github",
        "colab_type": "text"
      },
      "source": [
        "<a href=\"https://colab.research.google.com/github/baacumen/baacumen-learning/blob/main/Comprehensive_Guide_to_Sentiment_Analysis_with_Python.ipynb\" target=\"_parent\"><img src=\"https://colab.research.google.com/assets/colab-badge.svg\" alt=\"Open In Colab\"/></a>"
      ]
    },
    {
      "cell_type": "markdown",
      "source": [
        "# **Setting Up Your Python Environment**"
      ],
      "metadata": {
        "id": "OwHqblCMFm1e"
      }
    },
    {
      "cell_type": "code",
      "execution_count": 1,
      "metadata": {
        "colab": {
          "base_uri": "https://localhost:8080/"
        },
        "id": "74ZUa1k1Fce4",
        "outputId": "fd1bf159-960d-4bb5-d387-110f0886791f"
      },
      "outputs": [
        {
          "output_type": "stream",
          "name": "stdout",
          "text": [
            "Requirement already satisfied: pandas in /usr/local/lib/python3.10/dist-packages (1.5.3)\n",
            "Requirement already satisfied: nltk in /usr/local/lib/python3.10/dist-packages (3.8.1)\n",
            "Requirement already satisfied: scikit-learn in /usr/local/lib/python3.10/dist-packages (1.2.2)\n",
            "Requirement already satisfied: python-dateutil>=2.8.1 in /usr/local/lib/python3.10/dist-packages (from pandas) (2.8.2)\n",
            "Requirement already satisfied: pytz>=2020.1 in /usr/local/lib/python3.10/dist-packages (from pandas) (2023.4)\n",
            "Requirement already satisfied: numpy>=1.21.0 in /usr/local/lib/python3.10/dist-packages (from pandas) (1.25.2)\n",
            "Requirement already satisfied: click in /usr/local/lib/python3.10/dist-packages (from nltk) (8.1.7)\n",
            "Requirement already satisfied: joblib in /usr/local/lib/python3.10/dist-packages (from nltk) (1.3.2)\n",
            "Requirement already satisfied: regex>=2021.8.3 in /usr/local/lib/python3.10/dist-packages (from nltk) (2023.12.25)\n",
            "Requirement already satisfied: tqdm in /usr/local/lib/python3.10/dist-packages (from nltk) (4.66.2)\n",
            "Requirement already satisfied: scipy>=1.3.2 in /usr/local/lib/python3.10/dist-packages (from scikit-learn) (1.11.4)\n",
            "Requirement already satisfied: threadpoolctl>=2.0.0 in /usr/local/lib/python3.10/dist-packages (from scikit-learn) (3.3.0)\n",
            "Requirement already satisfied: six>=1.5 in /usr/local/lib/python3.10/dist-packages (from python-dateutil>=2.8.1->pandas) (1.16.0)\n"
          ]
        }
      ],
      "source": [
        "# pip install pandas nltk scikit-learn"
      ]
    },
    {
      "cell_type": "markdown",
      "source": [
        "# **Import Libraries**"
      ],
      "metadata": {
        "id": "evhTybnSJwdr"
      }
    },
    {
      "cell_type": "code",
      "source": [
        "import re\n",
        "import nltk\n",
        "from nltk.corpus import stopwords\n",
        "from nltk.tokenize import word_tokenize\n",
        "nltk.download('movie_reviews')\n",
        "nltk.download('punkt')\n",
        "nltk.download('stopwords')\n",
        "from nltk.corpus import movie_reviews\n",
        "from sklearn.model_selection import train_test_split\n",
        "from sklearn.feature_extraction.text import CountVectorizer\n",
        "from sklearn.naive_bayes import MultinomialNB\n",
        "from sklearn.metrics import accuracy_score, classification_report"
      ],
      "metadata": {
        "colab": {
          "base_uri": "https://localhost:8080/"
        },
        "id": "dMP3KUCSJzlH",
        "outputId": "764c1c6f-a674-4667-f20c-d1f208bcca34"
      },
      "execution_count": 11,
      "outputs": [
        {
          "output_type": "stream",
          "name": "stderr",
          "text": [
            "[nltk_data] Downloading package movie_reviews to /root/nltk_data...\n",
            "[nltk_data]   Package movie_reviews is already up-to-date!\n",
            "[nltk_data] Downloading package punkt to /root/nltk_data...\n",
            "[nltk_data]   Package punkt is already up-to-date!\n",
            "[nltk_data] Downloading package stopwords to /root/nltk_data...\n",
            "[nltk_data]   Unzipping corpora/stopwords.zip.\n"
          ]
        }
      ]
    },
    {
      "cell_type": "markdown",
      "source": [
        "# **Text Preprocessing**"
      ],
      "metadata": {
        "id": "SewL4vJsFtKM"
      }
    },
    {
      "cell_type": "code",
      "source": [
        "def preprocess_text(text):\n",
        "    text = text.lower()\n",
        "    text = re.sub(r'[^a-zA-Z\\s]', '', text)\n",
        "    tokens = word_tokenize(text)\n",
        "    tokens = [word for word in tokens if word not in stopwords.words('english')]\n",
        "    return ' '.join(tokens)"
      ],
      "metadata": {
        "id": "4kK-idEiFrju"
      },
      "execution_count": 8,
      "outputs": []
    },
    {
      "cell_type": "markdown",
      "source": [
        "# **Choosing a Sentiment Analysis Library**"
      ],
      "metadata": {
        "id": "I0pYQXEAF2Yf"
      }
    },
    {
      "cell_type": "code",
      "source": [
        "# Load movie reviews dataset\n",
        "documents = [(list(movie_reviews.words(fileid)), category)\n",
        "             for category in movie_reviews.categories()\n",
        "             for fileid in movie_reviews.fileids(category)]\n",
        "\n",
        "# Split the dataset into training and testing sets\n",
        "train_documents, test_documents = train_test_split(documents, test_size=0.2, random_state=42)\n",
        "\n",
        "# Extract features using Bag-of-Words model\n",
        "vectorizer = CountVectorizer()\n",
        "X_train = vectorizer.fit_transform([' '.join(words) for words, _ in train_documents])\n",
        "y_train = [category for _, category in train_documents]\n",
        "\n",
        "X_test = vectorizer.transform([' '.join(words) for words, _ in test_documents])\n",
        "y_test = [category for _, category in test_documents]\n",
        "\n",
        "# Train a Naive Bayes classifier\n",
        "classifier = MultinomialNB()\n",
        "classifier.fit(X_train, y_train)\n",
        "\n",
        "# Make predictions on the test set\n",
        "y_pred = classifier.predict(X_test)\n",
        "\n",
        "# Evaluate the model performance\n",
        "accuracy = accuracy_score(y_test, y_pred)\n",
        "report = classification_report(y_test, y_pred)\n",
        "\n",
        "print(f'Accuracy: {accuracy}')\n",
        "print(f'Classification Report:\\n{report}')"
      ],
      "metadata": {
        "colab": {
          "base_uri": "https://localhost:8080/"
        },
        "id": "6bSJltlaFzly",
        "outputId": "2b273053-d38a-4bb0-d0f9-4c1807c81169"
      },
      "execution_count": 9,
      "outputs": [
        {
          "output_type": "stream",
          "name": "stdout",
          "text": [
            "Accuracy: 0.815\n",
            "Classification Report:\n",
            "              precision    recall  f1-score   support\n",
            "\n",
            "         neg       0.79      0.85      0.82       199\n",
            "         pos       0.84      0.78      0.81       201\n",
            "\n",
            "    accuracy                           0.81       400\n",
            "   macro avg       0.82      0.82      0.81       400\n",
            "weighted avg       0.82      0.81      0.81       400\n",
            "\n"
          ]
        }
      ]
    },
    {
      "cell_type": "markdown",
      "source": [
        "# **Predict Sentiment for Unseen Review**"
      ],
      "metadata": {
        "id": "g4EpNRc-Jb3O"
      }
    },
    {
      "cell_type": "code",
      "source": [
        "# New Unseen Movie Review\n",
        "unseen_review = \"This movie was absolutely fantastic. The plot was engaging, and the actors delivered outstanding performances.\"\n",
        "\n",
        "# Preprocess the unseen review\n",
        "processed_review = preprocess_text(unseen_review)\n",
        "\n",
        "# Vectorize the processed review using the same vectorizer\n",
        "X_unseen = vectorizer.transform([processed_review])\n",
        "\n",
        "# Predict sentiment using the trained model\n",
        "predicted_sentiment = classifier.predict(X_unseen)[0]\n",
        "\n",
        "# Interpret the sentiment\n",
        "sentiment_label = \"Positive\" if predicted_sentiment == 'pos' else \"Negative\"\n",
        "\n",
        "# Display the results\n",
        "print(f\"Unseen Review: {unseen_review}\")\n",
        "print(f\"Processed Review: {processed_review}\")\n",
        "print(f\"Predicted Sentiment: {sentiment_label}\")"
      ],
      "metadata": {
        "colab": {
          "base_uri": "https://localhost:8080/"
        },
        "id": "pu5SQYDyF6Vz",
        "outputId": "8b41984a-f8a1-40e9-df9e-e847f7f1e940"
      },
      "execution_count": 22,
      "outputs": [
        {
          "output_type": "stream",
          "name": "stdout",
          "text": [
            "Unseen Review: This movie was absolutely fantastic. The plot was engaging, and the actors delivered outstanding performances.\n",
            "Processed Review: movie absolutely fantastic plot engaging actors delivered outstanding performances\n",
            "Predicted Sentiment: Positive\n"
          ]
        }
      ]
    }
  ]
}
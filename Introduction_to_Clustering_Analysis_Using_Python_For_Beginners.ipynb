{
  "nbformat": 4,
  "nbformat_minor": 0,
  "metadata": {
    "colab": {
      "provenance": [],
      "authorship_tag": "ABX9TyNzXRnNqoR2c4H7cgmX5f3E",
      "include_colab_link": true
    },
    "kernelspec": {
      "name": "python3",
      "display_name": "Python 3"
    },
    "language_info": {
      "name": "python"
    }
  },
  "cells": [
    {
      "cell_type": "markdown",
      "metadata": {
        "id": "view-in-github",
        "colab_type": "text"
      },
      "source": [
        "<a href=\"https://colab.research.google.com/github/baacumen/baacumen-learning/blob/main/Introduction_to_Clustering_Analysis_Using_Python_For_Beginners.ipynb\" target=\"_parent\"><img src=\"https://colab.research.google.com/assets/colab-badge.svg\" alt=\"Open In Colab\"/></a>"
      ]
    },
    {
      "cell_type": "markdown",
      "source": [
        "## **Author:** Vishal verma\n",
        "### **LinkedIn:** [Connect with Me](https://www.linkedin.com/in/vishalverma2701)"
      ],
      "metadata": {
        "id": "PvznmyZl_fev"
      }
    },
    {
      "cell_type": "markdown",
      "source": [
        "# **Install necessary libraries**"
      ],
      "metadata": {
        "id": "FGbSt3nA56mj"
      }
    },
    {
      "cell_type": "code",
      "source": [
        "#pip install numpy pandas scikit-learn"
      ],
      "metadata": {
        "colab": {
          "base_uri": "https://localhost:8080/"
        },
        "id": "-JKFbspv6Co5",
        "outputId": "ec617847-172f-45ea-8e83-bc261507273b"
      },
      "execution_count": 1,
      "outputs": [
        {
          "output_type": "stream",
          "name": "stdout",
          "text": [
            "Requirement already satisfied: numpy in /usr/local/lib/python3.10/dist-packages (1.25.2)\n",
            "Requirement already satisfied: pandas in /usr/local/lib/python3.10/dist-packages (1.5.3)\n",
            "Requirement already satisfied: scikit-learn in /usr/local/lib/python3.10/dist-packages (1.2.2)\n",
            "Requirement already satisfied: python-dateutil>=2.8.1 in /usr/local/lib/python3.10/dist-packages (from pandas) (2.8.2)\n",
            "Requirement already satisfied: pytz>=2020.1 in /usr/local/lib/python3.10/dist-packages (from pandas) (2023.4)\n",
            "Requirement already satisfied: scipy>=1.3.2 in /usr/local/lib/python3.10/dist-packages (from scikit-learn) (1.11.4)\n",
            "Requirement already satisfied: joblib>=1.1.1 in /usr/local/lib/python3.10/dist-packages (from scikit-learn) (1.3.2)\n",
            "Requirement already satisfied: threadpoolctl>=2.0.0 in /usr/local/lib/python3.10/dist-packages (from scikit-learn) (3.3.0)\n",
            "Requirement already satisfied: six>=1.5 in /usr/local/lib/python3.10/dist-packages (from python-dateutil>=2.8.1->pandas) (1.16.0)\n"
          ]
        }
      ]
    },
    {
      "cell_type": "markdown",
      "source": [
        "# **K-Means Clustering**"
      ],
      "metadata": {
        "id": "geepOGCp6G5V"
      }
    },
    {
      "cell_type": "code",
      "source": [
        "# Import necessary libraries\n",
        "from sklearn.cluster import KMeans\n",
        "import numpy as np\n",
        "import matplotlib.pyplot as plt\n",
        "\n",
        "# Generate more sample data with 8 data points\n",
        "data = np.array([[1, 2], [5, 8], [1.5, 1.8], [8, 8], [1, 0.6], [9, 11], [3, 4], [6, 5],\n",
        "                 [2, 3], [4, 7], [2.5, 1.5], [7, 7], [2, 0.5], [8, 10], [4, 5], [6, 4]])\n",
        "\n",
        "\n",
        "# Create K-Means model with 3 clusters\n",
        "kmeans = KMeans(n_clusters=3)\n",
        "kmeans.fit(data)\n",
        "\n",
        "# Get cluster labels and centroids\n",
        "labels = kmeans.labels_\n",
        "centroids = kmeans.cluster_centers_\n",
        "\n",
        "# Visualize the clusters\n",
        "colors = [\"g.\", \"r.\", \"b.\"]\n",
        "for i in range(len(data)):\n",
        "    plt.plot(data[i][0], data[i][1], colors[labels[i]], markersize=10)\n",
        "\n",
        "plt.scatter(centroids[:, 0], centroids[:, 1], marker=\"x\", s=150, linewidths=5, zorder=10)\n",
        "plt.title(\"K-Means Clustering with k=3\")\n",
        "plt.show();"
      ],
      "metadata": {
        "colab": {
          "base_uri": "https://localhost:8080/",
          "height": 487
        },
        "id": "1Sqt3Qoo6Ehw",
        "outputId": "70ab336d-8090-4666-9788-95f3dcd5d500"
      },
      "execution_count": 11,
      "outputs": [
        {
          "output_type": "stream",
          "name": "stderr",
          "text": [
            "/usr/local/lib/python3.10/dist-packages/sklearn/cluster/_kmeans.py:870: FutureWarning: The default value of `n_init` will change from 10 to 'auto' in 1.4. Set the value of `n_init` explicitly to suppress the warning\n",
            "  warnings.warn(\n"
          ]
        },
        {
          "output_type": "display_data",
          "data": {
            "text/plain": [
              "<Figure size 640x480 with 1 Axes>"
            ],
            "image/png": "[encoded data removed]"
          },
          "metadata": {}
        }
      ]
    },
    {
      "cell_type": "markdown",
      "source": [
        "# **DBSCAN Clustering**"
      ],
      "metadata": {
        "id": "vuDhfFeT91qv"
      }
    },
    {
      "cell_type": "code",
      "source": [
        "# Import necessary libraries\n",
        "from sklearn.cluster import DBSCAN\n",
        "import numpy as np\n",
        "\n",
        "# Generate sample data\n",
        "data = np.array([[1, 2], [5, 8], [1.5, 1.8], [8, 8], [1, 0.6], [9, 11], [3, 4], [6, 5],\n",
        "                 [2, 3], [4, 7], [2.5, 1.5], [7, 7], [2, 0.5], [8, 10], [4, 5], [6, 4]])\n",
        "\n",
        "\n",
        "# Create DBSCAN model\n",
        "dbscan = DBSCAN(eps=0.5, min_samples=5)\n",
        "dbscan.fit(data)\n",
        "\n",
        "# Get cluster labels\n",
        "labels = dbscan.labels_\n",
        "\n",
        "# Visualize the clusters\n",
        "import matplotlib.pyplot as plt\n",
        "\n",
        "core_samples_mask = np.zeros_like(labels, dtype=bool)\n",
        "core_samples_mask[dbscan.core_sample_indices_] = True\n",
        "unique_labels = set(labels)\n",
        "\n",
        "colors = [plt.cm.Spectral(each) for each in np.linspace(0, 1, len(unique_labels))]\n",
        "\n",
        "for k, col in zip(unique_labels, colors):\n",
        "    if k == -1:\n",
        "        col = [0, 0, 0, 1]\n",
        "\n",
        "    class_member_mask = (labels == k)\n",
        "\n",
        "    xy = data[class_member_mask & core_samples_mask]\n",
        "    plt.plot(xy[:, 0], xy[:, 1], \"o\", markerfacecolor=tuple(col), markeredgecolor=\"k\", markersize=14)\n",
        "\n",
        "    xy = data[class_member_mask & ~core_samples_mask]\n",
        "    plt.plot(xy[:, 0], xy[:, 1], \"o\", markerfacecolor=tuple(col), markeredgecolor=\"k\", markersize=6)\n",
        "\n",
        "plt.title(\"DBSCAN Clustering\")\n",
        "plt.show();"
      ],
      "metadata": {
        "colab": {
          "base_uri": "https://localhost:8080/",
          "height": 452
        },
        "id": "iZTYqh7Z6McX",
        "outputId": "ea27e0a3-d6e2-4802-f8c4-03c25491adde"
      },
      "execution_count": 13,
      "outputs": [
        {
          "output_type": "display_data",
          "data": {
            "text/plain": [
              "<Figure size 640x480 with 1 Axes>"
            ],
            "image/png": "[encoded data removed]"
          },
          "metadata": {}
        }
      ]
    },
    {
      "cell_type": "markdown",
      "source": [
        "# **Evaluating Clustering Results and Adjusted Rand Index (ARI)**"
      ],
      "metadata": {
        "id": "z_0U_CsJ-ETq"
      }
    },
    {
      "cell_type": "code",
      "source": [
        "# Import necessary libraries\n",
        "from sklearn.cluster import KMeans\n",
        "from sklearn.metrics import adjusted_rand_score, silhouette_score\n",
        "import numpy as np\n",
        "\n",
        "# Generate sample data\n",
        "data = np.array([[1, 2], [5, 8], [1.5, 1.8], [8, 8], [1, 0.6], [9, 11], [3, 4], [6, 5],\n",
        "                 [2, 3], [4, 7], [2.5, 1.5], [7, 7], [2, 0.5], [8, 10], [4, 5], [6, 4]])\n",
        "\n",
        "# Create K-Means model with 3 clusters\n",
        "kmeans = KMeans(n_clusters=3)\n",
        "kmeans.fit(data)\n",
        "\n",
        "# Get cluster labels\n",
        "labels = kmeans.labels_\n",
        "\n",
        "# Assuming you have true labels or ground truth for all data points\n",
        "true_labels = np.array([0, 1, 0, 1, 0, 1, 2, 2, 2, 2, 2, 2, 2, 2, 2, 2])\n",
        "\n",
        "# Calculate ARI\n",
        "print('='*50)\n",
        "ari_score = adjusted_rand_score(true_labels, labels)\n",
        "print(f\"Adjusted Rand Index: {ari_score}\")\n",
        "\n",
        "# Calculate silhouette score\n",
        "silhouette_avg = silhouette_score(data, labels)\n",
        "print(f\"Silhouette Score: {silhouette_avg}\")\n",
        "print('='*50)"
      ],
      "metadata": {
        "colab": {
          "base_uri": "https://localhost:8080/"
        },
        "id": "1u223hjF-EcN",
        "outputId": "94b3b920-32a0-43f5-a404-1baff095e6c5"
      },
      "execution_count": 19,
      "outputs": [
        {
          "output_type": "stream",
          "name": "stdout",
          "text": [
            "==================================================\n",
            "Adjusted Rand Index: 0.12049252418645559\n",
            "Silhouette Score: 0.5066453870363061\n",
            "==================================================\n"
          ]
        },
        {
          "output_type": "stream",
          "name": "stderr",
          "text": [
            "/usr/local/lib/python3.10/dist-packages/sklearn/cluster/_kmeans.py:870: FutureWarning: The default value of `n_init` will change from 10 to 'auto' in 1.4. Set the value of `n_init` explicitly to suppress the warning\n",
            "  warnings.warn(\n"
          ]
        }
      ]
    }
  ]
}